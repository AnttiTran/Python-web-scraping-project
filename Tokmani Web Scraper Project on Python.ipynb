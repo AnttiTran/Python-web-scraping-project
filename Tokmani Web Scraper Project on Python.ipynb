{
 "cells": [
  {
   "cell_type": "code",
   "execution_count": 1,
   "id": "151ccaf1-45b7-4579-b107-c4e56b33944a",
   "metadata": {},
   "outputs": [],
   "source": [
    "from bs4 import BeautifulSoup\n",
    "import requests\n",
    "import time\n",
    "import datetime\n",
    "\n",
    "import smtplib"
   ]
  },
  {
   "cell_type": "code",
   "execution_count": 95,
   "id": "d79b5666-8490-4d1e-8432-090a6b53dabd",
   "metadata": {},
   "outputs": [
    {
     "name": "stdout",
     "output_type": "stream",
     "text": [
      "Pesäaines Ruti Nest 300 g\n",
      "5.99\n"
     ]
    }
   ],
   "source": [
    "\n",
    "# Connect to Website and pull in data\n",
    "\n",
    "URL = 'https://www.tokmanni.fi/pesaaines-ruti-nest-300-g-6417873000008'\n",
    "\n",
    "headers = {\"User-Agent\": \"Mozilla/5.0 (Windows NT 10.0; Win64; x64) AppleWebKit/537.36 (KHTML, like Gecko) Chrome/78.0.3904.108 Safari/537.36\", \"Accept-Encoding\":\"gzip, deflate\", \"Accept\":\"text/html,application/xhtml+xml,application/xml;q=0.9,*/*;q=0.8\", \"DNT\":\"1\",\"Connection\":\"close\", \"Upgrade-Insecure-Requests\":\"1\"}\n",
    "\n",
    "page = requests.get(URL, headers=headers)\n",
    "\n",
    "from bs4 import BeautifulSoup\n",
    "\n",
    "# Parse the HTML content with BeautifulSoup\n",
    "soup = BeautifulSoup(html_content, 'html.parser')\n",
    "\n",
    "# Tittle\n",
    "# Find the span element by class\n",
    "title_element = soup.find('span', class_='base')\n",
    "\n",
    "# Check if the element exists\n",
    "if title_element:\n",
    "    title = title_element.get_text().strip()  # Get the text and strip any extra whitespace\n",
    "else:\n",
    "    title = \"Title not found\"\n",
    "\n",
    "# Price\n",
    "import re\n",
    "# Clean up the text\n",
    "\n",
    "price_text = price_text.strip()\n",
    "price_text = re.sub(r'\\s+', '', price_text)\n",
    "price_text = price_text.replace(',', '.')\n",
    "\n",
    "# Optional: Validate and format the price if needed\n",
    "\n",
    "if re.match(r'^\\d+(\\.\\d{1,2})?$', price_text):\n",
    "    formatted_price = price_text\n",
    "else:\n",
    "    formatted_price = \"Price format not recognized\"\n",
    "\n",
    "# Print the cleaned and formatted price and title\n",
    "print(title)\n",
    "print(formatted_price)\n",
    "\n",
    "\n",
    "\n",
    "\n",
    "\n"
   ]
  },
  {
   "cell_type": "code",
   "execution_count": null,
   "id": "390387cd-972c-4299-a4f1-ebb136689d73",
   "metadata": {},
   "outputs": [],
   "source": [
    "import datetime\n",
    "today=datetime.date.today()\n",
    "print(today)"
   ]
  },
  {
   "cell_type": "code",
   "execution_count": 111,
   "id": "6cb0a6e4-e676-4abb-9fdf-4ee35828850a",
   "metadata": {},
   "outputs": [],
   "source": [
    "import csv\n",
    "\n",
    "# Prepare header and data\n",
    "header = ['Title',   'Formatted_Price', 'date']\n",
    "data = [title, formatted_price, today]\n",
    "\n",
    "type (data)\n",
    "# Open the file and write data\n",
    "with open('TokmaniWebScraperDataset.csv', 'w', newline='', encoding='UTF8') as f:\n",
    "    writer = csv.writer(f)\n",
    "    writer.writerow(header)  # Write the header\n",
    "    writer.writerow(data)    # Write the data\n"
   ]
  },
  {
   "cell_type": "code",
   "execution_count": 121,
   "id": "ac67c17c-689e-4870-a68c-dc2d75d2cbe8",
   "metadata": {},
   "outputs": [
    {
     "name": "stdout",
     "output_type": "stream",
     "text": [
      "                       Title  Formatted_Price        date\n",
      "0  Pesäaines Ruti Nest 300 g             5.99  2024-09-02\n",
      "1  Pesäaines Ruti Nest 300 g             5.99  2024-09-02\n",
      "2  Pesäaines Ruti Nest 300 g             5.99  2024-09-02\n"
     ]
    }
   ],
   "source": [
    "import pandas as pd\n",
    "df=pd.read_csv (r'/Users/anttitran/TokmaniWebScraperDataset.csv')\n",
    "print(df)"
   ]
  },
  {
   "cell_type": "code",
   "execution_count": 119,
   "id": "9b4afff9-af0a-4e44-aa19-7d01bd17ec8d",
   "metadata": {},
   "outputs": [],
   "source": [
    "# Now we are appending data to the csv\n",
    "with open('TokmaniWebScraperDataset.csv', 'a+', newline='', encoding='UTF8') as f:\n",
    "    writer = csv.writer(f)\n",
    "    writer.writerow(data)    "
   ]
  },
  {
   "cell_type": "code",
   "execution_count": 129,
   "id": "e02d42c5-5b69-45bc-981d-99b89c737324",
   "metadata": {},
   "outputs": [],
   "source": [
    "\n",
    "\n",
    "def check_price():\n",
    "    URL = 'https://www.tokmanni.fi/pesaaines-ruti-nest-300-g-6417873000008'\n",
    "    headers = {\"User-Agent\": \"Mozilla/5.0 (Windows NT 10.0; Win64; x64) AppleWebKit/537.36 (KHTML, like Gecko) Chrome/78.0.3904.108 Safari/537.36\",  \"Accept-Encoding\": \"gzip, deflate\", \"Accept\": \"text/html,application/xhtml+xml,application/xml;q=0.9,*/*;q=0.8\",  \"DNT\": \"1\", \"Connection\": \"close\", \"Upgrade-Insecure-Requests\": \"1\"}\n",
    "\n",
    "    page = requests.get(URL, headers=headers)\n",
    "    soup = BeautifulSoup(page.content, \"html.parser\")\n",
    "\n",
    "    title_element = soup.find('span', class_='base')\n",
    "    if title_element:\n",
    "        title = title_element.get_text().strip()\n",
    "    else:\n",
    "        title = \"Title not found\"\n",
    "\n",
    "    \n",
    "    price_element = soup.find(id='product-price-271824')\n",
    "    if price_element:\n",
    "        price_text = price_element.get_text().strip()\n",
    "        price_text = re.sub(r'\\s+', '', price_text)\n",
    "        price_text = price_text.replace(',', '.')\n",
    "        \n",
    "        if re.match(r'^\\d+(\\.\\d{1,2})?$', price_text):\n",
    "            formatted_price = price_text\n",
    "        else:\n",
    "            formatted_price = \"Price format not recognized\"\n",
    "    else:\n",
    "        formatted_price = \"Price not found\"\n",
    "\n",
    "    today = datetime.date.today()\n",
    "\n",
    "    header = ['Title', 'Formatted_Price', 'Date']\n",
    "    data = [title, formatted_price, today]\n",
    "\n",
    "    \n",
    "    with open('TokmaniWebScraperDataset.csv', 'a+', newline='', encoding='UTF8') as f:\n",
    "        writer = csv.writer(f)\n",
    "        writer.writerow(data)\n",
    "\n",
    "check_price()\n"
   ]
  },
  {
   "cell_type": "code",
   "execution_count": null,
   "id": "c9d7dc41-352c-4f15-8682-9e3d7afd1569",
   "metadata": {},
   "outputs": [],
   "source": [
    "while (True): \n",
    "    check_price()\n",
    "    time.sleep(86400)"
   ]
  },
  {
   "cell_type": "code",
   "execution_count": 136,
   "id": "903c1c2d-9774-404d-912d-5d2863c6c6d9",
   "metadata": {},
   "outputs": [
    {
     "name": "stdout",
     "output_type": "stream",
     "text": [
      "                        Title  Formatted_Price        date\n",
      "0   Pesäaines Ruti Nest 300 g             5.99  2024-09-02\n",
      "1   Pesäaines Ruti Nest 300 g             5.99  2024-09-02\n",
      "2   Pesäaines Ruti Nest 300 g             5.99  2024-09-02\n",
      "3   Pesäaines Ruti Nest 300 g             5.99  2024-09-02\n",
      "4   Pesäaines Ruti Nest 300 g             5.99  2024-09-02\n",
      "5   Pesäaines Ruti Nest 300 g             5.99  2024-09-02\n",
      "6   Pesäaines Ruti Nest 300 g             5.99  2024-09-02\n",
      "7   Pesäaines Ruti Nest 300 g             5.99  2024-09-02\n",
      "8   Pesäaines Ruti Nest 300 g             5.99  2024-09-02\n",
      "9   Pesäaines Ruti Nest 300 g             5.99  2024-09-02\n",
      "10  Pesäaines Ruti Nest 300 g             5.99  2024-09-02\n",
      "11  Pesäaines Ruti Nest 300 g             5.99  2024-09-02\n"
     ]
    }
   ],
   "source": [
    "import pandas as pd\n",
    "df=pd.read_csv (r'/Users/anttitran/TokmaniWebScraperDataset.csv')\n",
    "print(df)"
   ]
  },
  {
   "cell_type": "code",
   "execution_count": null,
   "id": "e80c3ddb-df19-4536-9169-03d7d8bb099f",
   "metadata": {},
   "outputs": [],
   "source": []
  }
 ],
 "metadata": {
  "kernelspec": {
   "display_name": "Python 3 (ipykernel)",
   "language": "python",
   "name": "python3"
  },
  "language_info": {
   "codemirror_mode": {
    "name": "ipython",
    "version": 3
   },
   "file_extension": ".py",
   "mimetype": "text/x-python",
   "name": "python",
   "nbconvert_exporter": "python",
   "pygments_lexer": "ipython3",
   "version": "3.12.4"
  }
 },
 "nbformat": 4,
 "nbformat_minor": 5
}
